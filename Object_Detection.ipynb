{
  "cells": [
    {
      "cell_type": "markdown",
      "metadata": {
        "id": "view-in-github",
        "colab_type": "text"
      },
      "source": [
        "<a href=\"https://colab.research.google.com/github/SS2803/Object-Detection/blob/main/Object_Detection.ipynb\" target=\"_parent\"><img src=\"https://colab.research.google.com/assets/colab-badge.svg\" alt=\"Open In Colab\"/></a>"
      ]
    },
    {
      "cell_type": "code",
      "execution_count": null,
      "metadata": {
        "id": "QfdGKXRskS6x"
      },
      "outputs": [],
      "source": [
        "import tensorflow as tf\n",
        "import matplotlib.pyplot as plt"
      ]
    },
    {
      "cell_type": "code",
      "execution_count": null,
      "metadata": {
        "id": "zbN91enyXokL"
      },
      "outputs": [],
      "source": [
        "class_names=['airplane','automobile','bird','cat','deer','dog','frog','horse','ship','truck']\n",
        "\n",
        "(x_train,y_train),(x_test,y_test)=tf.keras.datasets.cifar10.load_data()"
      ]
    },
    {
      "cell_type": "code",
      "execution_count": null,
      "metadata": {
        "colab": {
          "base_uri": "https://localhost:8080/"
        },
        "id": "IijwoC2FYRZH",
        "outputId": "114f006b-5c0b-4a58-ad5c-af2e863be04b"
      },
      "outputs": [
        {
          "output_type": "stream",
          "name": "stdout",
          "text": [
            "4\n"
          ]
        }
      ],
      "source": [
        "print(y_train[10][0])"
      ]
    },
    {
      "cell_type": "code",
      "execution_count": null,
      "metadata": {
        "colab": {
          "base_uri": "https://localhost:8080/",
          "height": 159
        },
        "id": "SFoOdbWLYY9e",
        "outputId": "ff4fa3cb-55b7-47cc-bac7-de09a18a2b88"
      },
      "outputs": [
        {
          "output_type": "stream",
          "name": "stdout",
          "text": [
            "deer\n"
          ]
        },
        {
          "output_type": "display_data",
          "data": {
            "text/plain": [
              "<Figure size 100x100 with 1 Axes>"
            ],
            "image/png": "[encoded data removed]"
          },
          "metadata": {}
        }
      ],
      "source": [
        "plt.figure(figsize=(1,1))\n",
        "plt.imshow(x_train[20])\n",
        "print(class_names[y_train[20][0]])\n",
        "plt.show()"
      ]
    },
    {
      "cell_type": "code",
      "execution_count": null,
      "metadata": {
        "colab": {
          "base_uri": "https://localhost:8080/",
          "height": 159
        },
        "id": "rF0Uo_GDamyy",
        "outputId": "30971a0b-6891-441e-eddc-53ecae80eaa6"
      },
      "outputs": [
        {
          "output_type": "stream",
          "name": "stdout",
          "text": [
            "dog\n"
          ]
        },
        {
          "output_type": "display_data",
          "data": {
            "text/plain": [
              "<Figure size 100x100 with 1 Axes>"
            ],
            "image/png": "[encoded data removed]"
          },
          "metadata": {}
        }
      ],
      "source": [
        "plt.figure(figsize=(1,1))\n",
        "plt.imshow(x_test[1000])\n",
        "print(class_names[y_test[1000][0]])\n",
        "plt.show()"
      ]
    },
    {
      "cell_type": "code",
      "execution_count": null,
      "metadata": {
        "colab": {
          "base_uri": "https://localhost:8080/"
        },
        "id": "URIJpBv0a0VV",
        "outputId": "e7f61106-afb5-4d9a-c194-8e7025e9d7f4"
      },
      "outputs": [
        {
          "output_type": "execute_result",
          "data": {
            "text/plain": [
              "(10000, 32, 32, 3)"
            ]
          },
          "metadata": {},
          "execution_count": 17
        }
      ],
      "source": [
        "x_train=x_train/255.0\n",
        "x_train.shape\n",
        "x_test=x_test/255.0\n",
        "x_test.shape"
      ]
    },
    {
      "cell_type": "code",
      "execution_count": null,
      "metadata": {
        "colab": {
          "base_uri": "https://localhost:8080/"
        },
        "id": "zFFFiUaDbt9w",
        "outputId": "2d8889e5-e1e5-4069-f3a4-00f006598eb8"
      },
      "outputs": [
        {
          "output_type": "stream",
          "name": "stdout",
          "text": [
            "[[[0.23137255 0.24313725 0.24705882]\n",
            "  [0.16862745 0.18039216 0.17647059]\n",
            "  [0.19607843 0.18823529 0.16862745]\n",
            "  ...\n",
            "  [0.61960784 0.51764706 0.42352941]\n",
            "  [0.59607843 0.49019608 0.4       ]\n",
            "  [0.58039216 0.48627451 0.40392157]]\n",
            "\n",
            " [[0.0627451  0.07843137 0.07843137]\n",
            "  [0.         0.         0.        ]\n",
            "  [0.07058824 0.03137255 0.        ]\n",
            "  ...\n",
            "  [0.48235294 0.34509804 0.21568627]\n",
            "  [0.46666667 0.3254902  0.19607843]\n",
            "  [0.47843137 0.34117647 0.22352941]]\n",
            "\n",
            " [[0.09803922 0.09411765 0.08235294]\n",
            "  [0.0627451  0.02745098 0.        ]\n",
            "  [0.19215686 0.10588235 0.03137255]\n",
            "  ...\n",
            "  [0.4627451  0.32941176 0.19607843]\n",
            "  [0.47058824 0.32941176 0.19607843]\n",
            "  [0.42745098 0.28627451 0.16470588]]\n",
            "\n",
            " ...\n",
            "\n",
            " [[0.81568627 0.66666667 0.37647059]\n",
            "  [0.78823529 0.6        0.13333333]\n",
            "  [0.77647059 0.63137255 0.10196078]\n",
            "  ...\n",
            "  [0.62745098 0.52156863 0.2745098 ]\n",
            "  [0.21960784 0.12156863 0.02745098]\n",
            "  [0.20784314 0.13333333 0.07843137]]\n",
            "\n",
            " [[0.70588235 0.54509804 0.37647059]\n",
            "  [0.67843137 0.48235294 0.16470588]\n",
            "  [0.72941176 0.56470588 0.11764706]\n",
            "  ...\n",
            "  [0.72156863 0.58039216 0.36862745]\n",
            "  [0.38039216 0.24313725 0.13333333]\n",
            "  [0.3254902  0.20784314 0.13333333]]\n",
            "\n",
            " [[0.69411765 0.56470588 0.45490196]\n",
            "  [0.65882353 0.50588235 0.36862745]\n",
            "  [0.70196078 0.55686275 0.34117647]\n",
            "  ...\n",
            "  [0.84705882 0.72156863 0.54901961]\n",
            "  [0.59215686 0.4627451  0.32941176]\n",
            "  [0.48235294 0.36078431 0.28235294]]]\n"
          ]
        }
      ],
      "source": [
        "print(x_train[0])"
      ]
    },
    {
      "cell_type": "code",
      "execution_count": null,
      "metadata": {
        "colab": {
          "base_uri": "https://localhost:8080/"
        },
        "id": "SMfO6VD5b0p6",
        "outputId": "4b06721b-06e9-40ff-8747-9b16eb58a05b"
      },
      "outputs": [
        {
          "output_type": "execute_result",
          "data": {
            "text/plain": [
              "4"
            ]
          },
          "metadata": {},
          "execution_count": 19
        }
      ],
      "source": [
        "x_train.ndim"
      ]
    },
    {
      "cell_type": "code",
      "execution_count": null,
      "metadata": {
        "colab": {
          "base_uri": "https://localhost:8080/"
        },
        "id": "VyQQSriocs45",
        "outputId": "47771746-3e61-467c-8c43-a45954e1b630"
      },
      "outputs": [
        {
          "output_type": "stream",
          "name": "stdout",
          "text": [
            "Model: \"sequential_1\"\n",
            "_________________________________________________________________\n",
            " Layer (type)                Output Shape              Param #   \n",
            "=================================================================\n",
            " conv2d_4 (Conv2D)           (None, 32, 32, 32)        896       \n",
            "                                                                 \n",
            " conv2d_5 (Conv2D)           (None, 32, 32, 32)        9248      \n",
            "                                                                 \n",
            " max_pooling2d_2 (MaxPoolin  (None, 16, 16, 32)        0         \n",
            " g2D)                                                            \n",
            "                                                                 \n",
            " conv2d_6 (Conv2D)           (None, 16, 16, 364)       105196    \n",
            "                                                                 \n",
            " conv2d_7 (Conv2D)           (None, 16, 16, 364)       1192828   \n",
            "                                                                 \n",
            " max_pooling2d_3 (MaxPoolin  (None, 8, 8, 364)         0         \n",
            " g2D)                                                            \n",
            "                                                                 \n",
            " flatten_1 (Flatten)         (None, 23296)             0         \n",
            "                                                                 \n",
            " dropout_1 (Dropout)         (None, 23296)             0         \n",
            "                                                                 \n",
            " dense_2 (Dense)             (None, 128)               2982016   \n",
            "                                                                 \n",
            " dense_3 (Dense)             (None, 10)                1290      \n",
            "                                                                 \n",
            "=================================================================\n",
            "Total params: 4291474 (16.37 MB)\n",
            "Trainable params: 4291474 (16.37 MB)\n",
            "Non-trainable params: 0 (0.00 Byte)\n",
            "_________________________________________________________________\n",
            "Epoch 1/3\n",
            "1563/1563 [==============================] - 2248s 1s/step - loss: 1.4229 - sparse_categorical_accuracy: 0.4789\n",
            "Epoch 2/3\n",
            "1563/1563 [==============================] - 2236s 1s/step - loss: 0.9780 - sparse_categorical_accuracy: 0.6520\n",
            "Epoch 3/3\n",
            "1563/1563 [==============================] - 2188s 1s/step - loss: 0.8091 - sparse_categorical_accuracy: 0.7143\n"
          ]
        },
        {
          "output_type": "execute_result",
          "data": {
            "text/plain": [
              "<keras.src.callbacks.History at 0x7b273c1f51e0>"
            ]
          },
          "metadata": {},
          "execution_count": 21
        }
      ],
      "source": [
        "from keras.models import Sequential\n",
        "from keras.layers import Dense, Dropout, Conv2D, MaxPool2D, Flatten\n",
        "model=Sequential()\n",
        "\n",
        "model.add(Conv2D(filters=32,kernel_size=3,padding=\"same\",activation=\"relu\",input_shape=[32,32,3]))\n",
        "\n",
        "model.add(Conv2D(filters=32,kernel_size=3,padding=\"same\",activation=\"relu\"))\n",
        "\n",
        "model.add(MaxPool2D(pool_size=2,strides=2,padding='valid'))\n",
        "\n",
        "model.add(Conv2D(filters=364,kernel_size=3,padding=\"same\",activation=\"relu\"))\n",
        "\n",
        "model.add(Conv2D(filters=364,kernel_size=3,padding=\"same\",activation=\"relu\"))\n",
        "\n",
        "model.add(MaxPool2D(pool_size=2,strides=2,padding='valid'))\n",
        "\n",
        "model.add(Flatten())\n",
        "\n",
        "model.add(Dropout(0.4))\n",
        "\n",
        "model.add(Dense(units=128,activation='relu'))\n",
        "\n",
        "model.add(Dense(units=10,activation='softmax'))\n",
        "\n",
        "model.summary()\n",
        "model.compile(loss=\"sparse_categorical_crossentropy\", optimizer=\"Adam\", metrics=\"sparse_categorical_accuracy\")\n",
        "model.fit(x_train,y_train,epochs=3)"
      ]
    },
    {
      "cell_type": "code",
      "execution_count": null,
      "metadata": {
        "id": "EobHlONFfe2e",
        "colab": {
          "base_uri": "https://localhost:8080/"
        },
        "outputId": "7708ba58-c6df-4427-915f-4b54da8dc09e"
      },
      "outputs": [
        {
          "output_type": "stream",
          "name": "stdout",
          "text": [
            "313/313 [==============================] - 146s 465ms/step - loss: 0.7753 - sparse_categorical_accuracy: 0.7245\n"
          ]
        },
        {
          "output_type": "execute_result",
          "data": {
            "text/plain": [
              "[0.7752529978752136, 0.7245000004768372]"
            ]
          },
          "metadata": {},
          "execution_count": 22
        }
      ],
      "source": [
        "model.evaluate(x_test,y_test)"
      ]
    },
    {
      "cell_type": "code",
      "execution_count": null,
      "metadata": {
        "id": "PHhmexRcfmpE",
        "colab": {
          "base_uri": "https://localhost:8080/"
        },
        "outputId": "efa22d06-e641-4728-d9e7-178fa9ea61ae"
      },
      "outputs": [
        {
          "output_type": "stream",
          "name": "stdout",
          "text": [
            "1/1 [==============================] - 0s 429ms/step\n",
            "[3 8 8 0 6 6 1 4 3 1]\n"
          ]
        }
      ],
      "source": [
        "import numpy as np\n",
        "\n",
        "predictions=model.predict(x_test[0:10]);\n",
        "predicted_labels = np.argmax(predictions, axis=1)\n",
        "print(predicted_labels)"
      ]
    },
    {
      "cell_type": "code",
      "source": [
        "predicted_labels[1]"
      ],
      "metadata": {
        "id": "gSPEHq-L_m8H",
        "colab": {
          "base_uri": "https://localhost:8080/"
        },
        "outputId": "83d7daa8-de8d-4166-f4dd-6d5d485a88d1"
      },
      "execution_count": null,
      "outputs": [
        {
          "output_type": "execute_result",
          "data": {
            "text/plain": [
              "8"
            ]
          },
          "metadata": {},
          "execution_count": 24
        }
      ]
    },
    {
      "cell_type": "code",
      "source": [
        "print(y_test[0:10])"
      ],
      "metadata": {
        "id": "2ur1ovF5_rRD",
        "colab": {
          "base_uri": "https://localhost:8080/"
        },
        "outputId": "a22eed69-715f-4501-9554-8bbf846f3ecf"
      },
      "execution_count": null,
      "outputs": [
        {
          "output_type": "stream",
          "name": "stdout",
          "text": [
            "[[3]\n",
            " [8]\n",
            " [8]\n",
            " [0]\n",
            " [6]\n",
            " [6]\n",
            " [1]\n",
            " [6]\n",
            " [3]\n",
            " [1]]\n"
          ]
        }
      ]
    },
    {
      "cell_type": "code",
      "source": [
        "for i in range(1,9):\n",
        "  print(y_test[i]);\n",
        "  print(predicted_labels[i])"
      ],
      "metadata": {
        "id": "Irur01YWAa4j",
        "colab": {
          "base_uri": "https://localhost:8080/"
        },
        "outputId": "c94d0da0-8efc-4d82-dd2b-22f72bf195f5"
      },
      "execution_count": null,
      "outputs": [
        {
          "output_type": "stream",
          "name": "stdout",
          "text": [
            "[8]\n",
            "8\n",
            "[8]\n",
            "8\n",
            "[0]\n",
            "0\n",
            "[6]\n",
            "6\n",
            "[6]\n",
            "6\n",
            "[1]\n",
            "1\n",
            "[6]\n",
            "4\n",
            "[3]\n",
            "3\n"
          ]
        }
      ]
    },
    {
      "cell_type": "code",
      "source": [
        "for i in range(0,9):\n",
        "  print(\"Expected: \",class_names[y_test[i][0]])\n",
        "  print(\"predicted: \",class_names[predicted_labels[i]])"
      ],
      "metadata": {
        "id": "jmusAWGaAu6H",
        "colab": {
          "base_uri": "https://localhost:8080/"
        },
        "outputId": "07744597-b88c-4e41-8092-793cb6cc2865"
      },
      "execution_count": null,
      "outputs": [
        {
          "output_type": "stream",
          "name": "stdout",
          "text": [
            "Expected:  cat\n",
            "predicted:  cat\n",
            "Expected:  ship\n",
            "predicted:  ship\n",
            "Expected:  ship\n",
            "predicted:  ship\n",
            "Expected:  airplane\n",
            "predicted:  airplane\n",
            "Expected:  frog\n",
            "predicted:  frog\n",
            "Expected:  frog\n",
            "predicted:  frog\n",
            "Expected:  automobile\n",
            "predicted:  automobile\n",
            "Expected:  frog\n",
            "predicted:  deer\n",
            "Expected:  cat\n",
            "predicted:  cat\n"
          ]
        }
      ]
    },
    {
      "cell_type": "code",
      "source": [
        "print(y_test[1:10])"
      ],
      "metadata": {
        "id": "58PSayiIBVQU",
        "colab": {
          "base_uri": "https://localhost:8080/"
        },
        "outputId": "e8ad3d5a-972d-42ab-a47a-5aa238f72742"
      },
      "execution_count": null,
      "outputs": [
        {
          "output_type": "stream",
          "name": "stdout",
          "text": [
            "[[8]\n",
            " [8]\n",
            " [0]\n",
            " [6]\n",
            " [6]\n",
            " [1]\n",
            " [6]\n",
            " [3]\n",
            " [1]]\n"
          ]
        }
      ]
    }
  ],
  "metadata": {
    "colab": {
      "provenance": [],
      "authorship_tag": "ABX9TyNylAJs4z6/06/eRQiCSwNA",
      "include_colab_link": true
    },
    "kernelspec": {
      "display_name": "Python 3",
      "name": "python3"
    },
    "language_info": {
      "name": "python"
    }
  },
  "nbformat": 4,
  "nbformat_minor": 0
}